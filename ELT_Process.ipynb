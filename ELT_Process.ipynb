{
 "cells": [
  {
   "cell_type": "markdown",
   "id": "bd743ec2-a8e6-42dc-a6c7-113e284335e4",
   "metadata": {},
   "source": [
    "# ELT Process"
   ]
  },
  {
   "cell_type": "markdown",
   "id": "c10a32c4-c94d-4571-b6f7-216bfe7e5007",
   "metadata": {
    "tags": []
   },
   "source": [
    "### Libraries"
   ]
  },
  {
   "cell_type": "code",
   "execution_count": 8,
   "id": "06faf236-0a32-409c-94ae-b3ed9c2cd947",
   "metadata": {},
   "outputs": [],
   "source": [
    "import pandas as pd\n",
    "from pathlib import Path\n",
    "import sqlalchemy as sql"
   ]
  },
  {
   "cell_type": "markdown",
   "id": "039905be-78ad-42ec-a6dd-41ea3da2ed58",
   "metadata": {
    "tags": []
   },
   "source": [
    "## Portugal Data"
   ]
  },
  {
   "cell_type": "markdown",
   "id": "fb06a150-8fb4-4155-befe-1eccde1f894d",
   "metadata": {},
   "source": [
    "DataSource: https://tradingeconomics.com/portugal/tourist-arrivals"
   ]
  },
  {
   "cell_type": "code",
   "execution_count": 9,
   "id": "7541faa2-7e32-4830-8bc8-5e7b0a66318b",
   "metadata": {},
   "outputs": [
    {
     "data": {
      "text/html": [
       "<div>\n",
       "<style scoped>\n",
       "    .dataframe tbody tr th:only-of-type {\n",
       "        vertical-align: middle;\n",
       "    }\n",
       "\n",
       "    .dataframe tbody tr th {\n",
       "        vertical-align: top;\n",
       "    }\n",
       "\n",
       "    .dataframe thead th {\n",
       "        text-align: right;\n",
       "    }\n",
       "</style>\n",
       "<table border=\"1\" class=\"dataframe\">\n",
       "  <thead>\n",
       "    <tr style=\"text-align: right;\">\n",
       "      <th></th>\n",
       "      <th>Country</th>\n",
       "      <th>Category</th>\n",
       "      <th>DateTime</th>\n",
       "      <th>Value</th>\n",
       "      <th>Frequency</th>\n",
       "      <th>HistoricalDataSymbol</th>\n",
       "      <th>LastUpdate</th>\n",
       "    </tr>\n",
       "  </thead>\n",
       "  <tbody>\n",
       "    <tr>\n",
       "      <th>0</th>\n",
       "      <td>Portugal</td>\n",
       "      <td>Tourist Arrivals</td>\n",
       "      <td>1964-01-31T00:00:00</td>\n",
       "      <td>90000</td>\n",
       "      <td>Monthly</td>\n",
       "      <td>PORTUGALTOUARR</td>\n",
       "      <td>2015-08-21T14:52:00</td>\n",
       "    </tr>\n",
       "    <tr>\n",
       "      <th>1</th>\n",
       "      <td>Portugal</td>\n",
       "      <td>Tourist Arrivals</td>\n",
       "      <td>1964-02-29T00:00:00</td>\n",
       "      <td>105000</td>\n",
       "      <td>Monthly</td>\n",
       "      <td>PORTUGALTOUARR</td>\n",
       "      <td>2015-08-21T14:52:00</td>\n",
       "    </tr>\n",
       "    <tr>\n",
       "      <th>2</th>\n",
       "      <td>Portugal</td>\n",
       "      <td>Tourist Arrivals</td>\n",
       "      <td>1964-03-31T00:00:00</td>\n",
       "      <td>154000</td>\n",
       "      <td>Monthly</td>\n",
       "      <td>PORTUGALTOUARR</td>\n",
       "      <td>2015-08-21T14:52:00</td>\n",
       "    </tr>\n",
       "    <tr>\n",
       "      <th>3</th>\n",
       "      <td>Portugal</td>\n",
       "      <td>Tourist Arrivals</td>\n",
       "      <td>1964-04-30T00:00:00</td>\n",
       "      <td>166000</td>\n",
       "      <td>Monthly</td>\n",
       "      <td>PORTUGALTOUARR</td>\n",
       "      <td>2015-08-21T14:52:00</td>\n",
       "    </tr>\n",
       "    <tr>\n",
       "      <th>4</th>\n",
       "      <td>Portugal</td>\n",
       "      <td>Tourist Arrivals</td>\n",
       "      <td>1964-05-31T00:00:00</td>\n",
       "      <td>295000</td>\n",
       "      <td>Monthly</td>\n",
       "      <td>PORTUGALTOUARR</td>\n",
       "      <td>2015-08-21T14:52:00</td>\n",
       "    </tr>\n",
       "  </tbody>\n",
       "</table>\n",
       "</div>"
      ],
      "text/plain": [
       "    Country          Category             DateTime   Value Frequency  \\\n",
       "0  Portugal  Tourist Arrivals  1964-01-31T00:00:00   90000   Monthly   \n",
       "1  Portugal  Tourist Arrivals  1964-02-29T00:00:00  105000   Monthly   \n",
       "2  Portugal  Tourist Arrivals  1964-03-31T00:00:00  154000   Monthly   \n",
       "3  Portugal  Tourist Arrivals  1964-04-30T00:00:00  166000   Monthly   \n",
       "4  Portugal  Tourist Arrivals  1964-05-31T00:00:00  295000   Monthly   \n",
       "\n",
       "  HistoricalDataSymbol           LastUpdate  \n",
       "0       PORTUGALTOUARR  2015-08-21T14:52:00  \n",
       "1       PORTUGALTOUARR  2015-08-21T14:52:00  \n",
       "2       PORTUGALTOUARR  2015-08-21T14:52:00  \n",
       "3       PORTUGALTOUARR  2015-08-21T14:52:00  \n",
       "4       PORTUGALTOUARR  2015-08-21T14:52:00  "
      ]
     },
     "execution_count": 9,
     "metadata": {},
     "output_type": "execute_result"
    }
   ],
   "source": [
    "# Upload data from the CSV\n",
    "portugal_df = pd.read_csv(Path('Data/portugal_data.csv'))\n",
    "portugal_df.head()"
   ]
  },
  {
   "cell_type": "code",
   "execution_count": 10,
   "id": "89fb24df-7af8-48f9-81cc-aaef91186511",
   "metadata": {},
   "outputs": [
    {
     "name": "stdout",
     "output_type": "stream",
     "text": [
      "<class 'pandas.core.frame.DataFrame'>\n",
      "RangeIndex: 700 entries, 0 to 699\n",
      "Data columns (total 7 columns):\n",
      " #   Column                Non-Null Count  Dtype \n",
      "---  ------                --------------  ----- \n",
      " 0   Country               700 non-null    object\n",
      " 1   Category              700 non-null    object\n",
      " 2   DateTime              700 non-null    object\n",
      " 3   Value                 700 non-null    int64 \n",
      " 4   Frequency             700 non-null    object\n",
      " 5   HistoricalDataSymbol  700 non-null    object\n",
      " 6   LastUpdate            700 non-null    object\n",
      "dtypes: int64(1), object(6)\n",
      "memory usage: 38.4+ KB\n"
     ]
    }
   ],
   "source": [
    "# Verify Variables\n",
    "portugal_df.info()"
   ]
  },
  {
   "cell_type": "code",
   "execution_count": 11,
   "id": "e5fe70ba-ec98-4b7c-9bc4-bdaf9d8061f5",
   "metadata": {},
   "outputs": [
    {
     "data": {
      "text/html": [
       "<div>\n",
       "<style scoped>\n",
       "    .dataframe tbody tr th:only-of-type {\n",
       "        vertical-align: middle;\n",
       "    }\n",
       "\n",
       "    .dataframe tbody tr th {\n",
       "        vertical-align: top;\n",
       "    }\n",
       "\n",
       "    .dataframe thead th {\n",
       "        text-align: right;\n",
       "    }\n",
       "</style>\n",
       "<table border=\"1\" class=\"dataframe\">\n",
       "  <thead>\n",
       "    <tr style=\"text-align: right;\">\n",
       "      <th></th>\n",
       "      <th>Country</th>\n",
       "      <th>Category</th>\n",
       "      <th>DateTime</th>\n",
       "      <th>Value</th>\n",
       "      <th>Frequency</th>\n",
       "      <th>HistoricalDataSymbol</th>\n",
       "      <th>LastUpdate</th>\n",
       "      <th>Date</th>\n",
       "    </tr>\n",
       "  </thead>\n",
       "  <tbody>\n",
       "    <tr>\n",
       "      <th>0</th>\n",
       "      <td>Portugal</td>\n",
       "      <td>Tourist Arrivals</td>\n",
       "      <td>1964-01-31T00:00:00</td>\n",
       "      <td>90000</td>\n",
       "      <td>Monthly</td>\n",
       "      <td>PORTUGALTOUARR</td>\n",
       "      <td>2015-08-21T14:52:00</td>\n",
       "      <td>1964-01-31</td>\n",
       "    </tr>\n",
       "    <tr>\n",
       "      <th>1</th>\n",
       "      <td>Portugal</td>\n",
       "      <td>Tourist Arrivals</td>\n",
       "      <td>1964-02-29T00:00:00</td>\n",
       "      <td>105000</td>\n",
       "      <td>Monthly</td>\n",
       "      <td>PORTUGALTOUARR</td>\n",
       "      <td>2015-08-21T14:52:00</td>\n",
       "      <td>1964-02-29</td>\n",
       "    </tr>\n",
       "    <tr>\n",
       "      <th>2</th>\n",
       "      <td>Portugal</td>\n",
       "      <td>Tourist Arrivals</td>\n",
       "      <td>1964-03-31T00:00:00</td>\n",
       "      <td>154000</td>\n",
       "      <td>Monthly</td>\n",
       "      <td>PORTUGALTOUARR</td>\n",
       "      <td>2015-08-21T14:52:00</td>\n",
       "      <td>1964-03-31</td>\n",
       "    </tr>\n",
       "    <tr>\n",
       "      <th>3</th>\n",
       "      <td>Portugal</td>\n",
       "      <td>Tourist Arrivals</td>\n",
       "      <td>1964-04-30T00:00:00</td>\n",
       "      <td>166000</td>\n",
       "      <td>Monthly</td>\n",
       "      <td>PORTUGALTOUARR</td>\n",
       "      <td>2015-08-21T14:52:00</td>\n",
       "      <td>1964-04-30</td>\n",
       "    </tr>\n",
       "    <tr>\n",
       "      <th>4</th>\n",
       "      <td>Portugal</td>\n",
       "      <td>Tourist Arrivals</td>\n",
       "      <td>1964-05-31T00:00:00</td>\n",
       "      <td>295000</td>\n",
       "      <td>Monthly</td>\n",
       "      <td>PORTUGALTOUARR</td>\n",
       "      <td>2015-08-21T14:52:00</td>\n",
       "      <td>1964-05-31</td>\n",
       "    </tr>\n",
       "  </tbody>\n",
       "</table>\n",
       "</div>"
      ],
      "text/plain": [
       "    Country          Category             DateTime   Value Frequency  \\\n",
       "0  Portugal  Tourist Arrivals  1964-01-31T00:00:00   90000   Monthly   \n",
       "1  Portugal  Tourist Arrivals  1964-02-29T00:00:00  105000   Monthly   \n",
       "2  Portugal  Tourist Arrivals  1964-03-31T00:00:00  154000   Monthly   \n",
       "3  Portugal  Tourist Arrivals  1964-04-30T00:00:00  166000   Monthly   \n",
       "4  Portugal  Tourist Arrivals  1964-05-31T00:00:00  295000   Monthly   \n",
       "\n",
       "  HistoricalDataSymbol           LastUpdate       Date  \n",
       "0       PORTUGALTOUARR  2015-08-21T14:52:00 1964-01-31  \n",
       "1       PORTUGALTOUARR  2015-08-21T14:52:00 1964-02-29  \n",
       "2       PORTUGALTOUARR  2015-08-21T14:52:00 1964-03-31  \n",
       "3       PORTUGALTOUARR  2015-08-21T14:52:00 1964-04-30  \n",
       "4       PORTUGALTOUARR  2015-08-21T14:52:00 1964-05-31  "
      ]
     },
     "execution_count": 11,
     "metadata": {},
     "output_type": "execute_result"
    }
   ],
   "source": [
    "#Transform Object to Date\n",
    "portugal_df['Date'] = pd.to_datetime(portugal_df['DateTime'])\n",
    "portugal_df.head()"
   ]
  },
  {
   "cell_type": "code",
   "execution_count": 12,
   "id": "9da5fb5a-de4c-4f20-9aa4-ee5b4893e9c7",
   "metadata": {},
   "outputs": [
    {
     "data": {
      "text/html": [
       "<div>\n",
       "<style scoped>\n",
       "    .dataframe tbody tr th:only-of-type {\n",
       "        vertical-align: middle;\n",
       "    }\n",
       "\n",
       "    .dataframe tbody tr th {\n",
       "        vertical-align: top;\n",
       "    }\n",
       "\n",
       "    .dataframe thead th {\n",
       "        text-align: right;\n",
       "    }\n",
       "</style>\n",
       "<table border=\"1\" class=\"dataframe\">\n",
       "  <thead>\n",
       "    <tr style=\"text-align: right;\">\n",
       "      <th></th>\n",
       "      <th>Country</th>\n",
       "      <th>Value</th>\n",
       "      <th>Date</th>\n",
       "    </tr>\n",
       "  </thead>\n",
       "  <tbody>\n",
       "    <tr>\n",
       "      <th>0</th>\n",
       "      <td>Portugal</td>\n",
       "      <td>90000</td>\n",
       "      <td>1964-01-31</td>\n",
       "    </tr>\n",
       "    <tr>\n",
       "      <th>1</th>\n",
       "      <td>Portugal</td>\n",
       "      <td>105000</td>\n",
       "      <td>1964-02-29</td>\n",
       "    </tr>\n",
       "    <tr>\n",
       "      <th>2</th>\n",
       "      <td>Portugal</td>\n",
       "      <td>154000</td>\n",
       "      <td>1964-03-31</td>\n",
       "    </tr>\n",
       "    <tr>\n",
       "      <th>3</th>\n",
       "      <td>Portugal</td>\n",
       "      <td>166000</td>\n",
       "      <td>1964-04-30</td>\n",
       "    </tr>\n",
       "    <tr>\n",
       "      <th>4</th>\n",
       "      <td>Portugal</td>\n",
       "      <td>295000</td>\n",
       "      <td>1964-05-31</td>\n",
       "    </tr>\n",
       "  </tbody>\n",
       "</table>\n",
       "</div>"
      ],
      "text/plain": [
       "    Country   Value       Date\n",
       "0  Portugal   90000 1964-01-31\n",
       "1  Portugal  105000 1964-02-29\n",
       "2  Portugal  154000 1964-03-31\n",
       "3  Portugal  166000 1964-04-30\n",
       "4  Portugal  295000 1964-05-31"
      ]
     },
     "execution_count": 12,
     "metadata": {},
     "output_type": "execute_result"
    }
   ],
   "source": [
    "#Drop columns to keep main information\n",
    "portugal_df = portugal_df.drop(['Category','DateTime','Frequency','HistoricalDataSymbol','LastUpdate'],axis = 1)\n",
    "portugal_df.head()"
   ]
  },
  {
   "cell_type": "code",
   "execution_count": 13,
   "id": "0c322e02-1413-462c-9e2b-49f9e396464c",
   "metadata": {},
   "outputs": [],
   "source": [
    "#Final Dataframe based on data after 2002\n",
    "portugal_df = portugal_df[portugal_df['Date']>= '2000-01-01']"
   ]
  },
  {
   "cell_type": "code",
   "execution_count": 14,
   "id": "50fcf9ec-e55a-4a9b-a4c4-b88450a4ce42",
   "metadata": {},
   "outputs": [
    {
     "data": {
      "text/html": [
       "<div>\n",
       "<style scoped>\n",
       "    .dataframe tbody tr th:only-of-type {\n",
       "        vertical-align: middle;\n",
       "    }\n",
       "\n",
       "    .dataframe tbody tr th {\n",
       "        vertical-align: top;\n",
       "    }\n",
       "\n",
       "    .dataframe thead th {\n",
       "        text-align: right;\n",
       "    }\n",
       "</style>\n",
       "<table border=\"1\" class=\"dataframe\">\n",
       "  <thead>\n",
       "    <tr style=\"text-align: right;\">\n",
       "      <th></th>\n",
       "      <th>Country</th>\n",
       "      <th>y</th>\n",
       "      <th>ds</th>\n",
       "    </tr>\n",
       "  </thead>\n",
       "  <tbody>\n",
       "    <tr>\n",
       "      <th>0</th>\n",
       "      <td>Portugal</td>\n",
       "      <td>1075000</td>\n",
       "      <td>2000-01-31</td>\n",
       "    </tr>\n",
       "    <tr>\n",
       "      <th>1</th>\n",
       "      <td>Portugal</td>\n",
       "      <td>1393000</td>\n",
       "      <td>2000-02-29</td>\n",
       "    </tr>\n",
       "    <tr>\n",
       "      <th>2</th>\n",
       "      <td>Portugal</td>\n",
       "      <td>1948000</td>\n",
       "      <td>2000-03-31</td>\n",
       "    </tr>\n",
       "    <tr>\n",
       "      <th>3</th>\n",
       "      <td>Portugal</td>\n",
       "      <td>2276000</td>\n",
       "      <td>2000-04-30</td>\n",
       "    </tr>\n",
       "    <tr>\n",
       "      <th>4</th>\n",
       "      <td>Portugal</td>\n",
       "      <td>2583000</td>\n",
       "      <td>2000-05-31</td>\n",
       "    </tr>\n",
       "  </tbody>\n",
       "</table>\n",
       "</div>"
      ],
      "text/plain": [
       "    Country        y         ds\n",
       "0  Portugal  1075000 2000-01-31\n",
       "1  Portugal  1393000 2000-02-29\n",
       "2  Portugal  1948000 2000-03-31\n",
       "3  Portugal  2276000 2000-04-30\n",
       "4  Portugal  2583000 2000-05-31"
      ]
     },
     "execution_count": 14,
     "metadata": {},
     "output_type": "execute_result"
    }
   ],
   "source": [
    "portugal_df.reset_index(drop=True,inplace = True)\n",
    "portugal_df = portugal_df.rename(columns = {'Value':'y',\n",
    "                                           'Date':'ds'})\n",
    "portugal_df.head()"
   ]
  },
  {
   "cell_type": "code",
   "execution_count": 15,
   "id": "9802c5c9-33f9-4a3a-b9b6-c7a3bbda8a2a",
   "metadata": {},
   "outputs": [
    {
     "name": "stdout",
     "output_type": "stream",
     "text": [
      "<class 'pandas.core.frame.DataFrame'>\n",
      "RangeIndex: 268 entries, 0 to 267\n",
      "Data columns (total 3 columns):\n",
      " #   Column   Non-Null Count  Dtype         \n",
      "---  ------   --------------  -----         \n",
      " 0   Country  268 non-null    object        \n",
      " 1   y        268 non-null    int64         \n",
      " 2   ds       268 non-null    datetime64[ns]\n",
      "dtypes: datetime64[ns](1), int64(1), object(1)\n",
      "memory usage: 6.4+ KB\n"
     ]
    }
   ],
   "source": [
    "portugal_df.info()"
   ]
  },
  {
   "cell_type": "markdown",
   "id": "b7bf93b0-e588-4286-addb-aef6474941bf",
   "metadata": {
    "jp-MarkdownHeadingCollapsed": true,
    "tags": []
   },
   "source": [
    "## Singapore"
   ]
  },
  {
   "cell_type": "markdown",
   "id": "82d33e45-f742-49ae-bc81-a7c040b11125",
   "metadata": {},
   "source": [
    "Data Source:"
   ]
  },
  {
   "cell_type": "code",
   "execution_count": 16,
   "id": "6f72112f-b0b5-47c9-9930-7debc1e6bc09",
   "metadata": {},
   "outputs": [
    {
     "data": {
      "text/html": [
       "<div>\n",
       "<style scoped>\n",
       "    .dataframe tbody tr th:only-of-type {\n",
       "        vertical-align: middle;\n",
       "    }\n",
       "\n",
       "    .dataframe tbody tr th {\n",
       "        vertical-align: top;\n",
       "    }\n",
       "\n",
       "    .dataframe thead th {\n",
       "        text-align: right;\n",
       "    }\n",
       "</style>\n",
       "<table border=\"1\" class=\"dataframe\">\n",
       "  <thead>\n",
       "    <tr style=\"text-align: right;\">\n",
       "      <th></th>\n",
       "      <th>Arrival Month Year</th>\n",
       "      <th>Visitor Arrivals</th>\n",
       "    </tr>\n",
       "  </thead>\n",
       "  <tbody>\n",
       "    <tr>\n",
       "      <th>0</th>\n",
       "      <td>1-1-2008</td>\n",
       "      <td>885290</td>\n",
       "    </tr>\n",
       "    <tr>\n",
       "      <th>1</th>\n",
       "      <td>2-1-2008</td>\n",
       "      <td>813028</td>\n",
       "    </tr>\n",
       "    <tr>\n",
       "      <th>2</th>\n",
       "      <td>3-1-2008</td>\n",
       "      <td>910635</td>\n",
       "    </tr>\n",
       "    <tr>\n",
       "      <th>3</th>\n",
       "      <td>4-1-2008</td>\n",
       "      <td>829438</td>\n",
       "    </tr>\n",
       "    <tr>\n",
       "      <th>4</th>\n",
       "      <td>5-1-2008</td>\n",
       "      <td>833604</td>\n",
       "    </tr>\n",
       "  </tbody>\n",
       "</table>\n",
       "</div>"
      ],
      "text/plain": [
       "  Arrival Month Year  Visitor Arrivals\n",
       "0           1-1-2008            885290\n",
       "1           2-1-2008            813028\n",
       "2           3-1-2008            910635\n",
       "3           4-1-2008            829438\n",
       "4           5-1-2008            833604"
      ]
     },
     "execution_count": 16,
     "metadata": {},
     "output_type": "execute_result"
    }
   ],
   "source": [
    "singapore_df = pd.read_csv(Path(\"Data/singapore_datav2.csv\"))\n",
    "singapore_df.head()"
   ]
  },
  {
   "cell_type": "code",
   "execution_count": 17,
   "id": "e854bfd0-91cf-4b0c-a2be-328376ee35b6",
   "metadata": {},
   "outputs": [
    {
     "name": "stdout",
     "output_type": "stream",
     "text": [
      "<class 'pandas.core.frame.DataFrame'>\n",
      "RangeIndex: 173 entries, 0 to 172\n",
      "Data columns (total 2 columns):\n",
      " #   Column              Non-Null Count  Dtype \n",
      "---  ------              --------------  ----- \n",
      " 0   Arrival Month Year  173 non-null    object\n",
      " 1   Visitor Arrivals    173 non-null    int64 \n",
      "dtypes: int64(1), object(1)\n",
      "memory usage: 2.8+ KB\n"
     ]
    }
   ],
   "source": [
    "singapore_df.info()"
   ]
  },
  {
   "cell_type": "code",
   "execution_count": 18,
   "id": "3efd2008-7691-4c81-881e-9a58dfc6671b",
   "metadata": {},
   "outputs": [
    {
     "data": {
      "text/html": [
       "<div>\n",
       "<style scoped>\n",
       "    .dataframe tbody tr th:only-of-type {\n",
       "        vertical-align: middle;\n",
       "    }\n",
       "\n",
       "    .dataframe tbody tr th {\n",
       "        vertical-align: top;\n",
       "    }\n",
       "\n",
       "    .dataframe thead th {\n",
       "        text-align: right;\n",
       "    }\n",
       "</style>\n",
       "<table border=\"1\" class=\"dataframe\">\n",
       "  <thead>\n",
       "    <tr style=\"text-align: right;\">\n",
       "      <th></th>\n",
       "      <th>y</th>\n",
       "      <th>ds</th>\n",
       "    </tr>\n",
       "  </thead>\n",
       "  <tbody>\n",
       "    <tr>\n",
       "      <th>0</th>\n",
       "      <td>885290</td>\n",
       "      <td>2008-01-01</td>\n",
       "    </tr>\n",
       "    <tr>\n",
       "      <th>1</th>\n",
       "      <td>813028</td>\n",
       "      <td>2008-02-01</td>\n",
       "    </tr>\n",
       "    <tr>\n",
       "      <th>2</th>\n",
       "      <td>910635</td>\n",
       "      <td>2008-03-01</td>\n",
       "    </tr>\n",
       "    <tr>\n",
       "      <th>3</th>\n",
       "      <td>829438</td>\n",
       "      <td>2008-04-01</td>\n",
       "    </tr>\n",
       "    <tr>\n",
       "      <th>4</th>\n",
       "      <td>833604</td>\n",
       "      <td>2008-05-01</td>\n",
       "    </tr>\n",
       "  </tbody>\n",
       "</table>\n",
       "</div>"
      ],
      "text/plain": [
       "        y         ds\n",
       "0  885290 2008-01-01\n",
       "1  813028 2008-02-01\n",
       "2  910635 2008-03-01\n",
       "3  829438 2008-04-01\n",
       "4  833604 2008-05-01"
      ]
     },
     "execution_count": 18,
     "metadata": {},
     "output_type": "execute_result"
    }
   ],
   "source": [
    "singapore_df['ds'] = pd.to_datetime(singapore_df['Arrival Month Year'])\n",
    "singapore_df = singapore_df.rename(columns={'Visitor Arrivals':'y'})\n",
    "singapore_df = singapore_df.drop(['Arrival Month Year'],axis=1)\n",
    "singapore_df.head()"
   ]
  },
  {
   "cell_type": "code",
   "execution_count": 19,
   "id": "e96cae7d-4fc4-44f5-b91e-f61b92fa7d13",
   "metadata": {},
   "outputs": [
    {
     "data": {
      "text/html": [
       "<div>\n",
       "<style scoped>\n",
       "    .dataframe tbody tr th:only-of-type {\n",
       "        vertical-align: middle;\n",
       "    }\n",
       "\n",
       "    .dataframe tbody tr th {\n",
       "        vertical-align: top;\n",
       "    }\n",
       "\n",
       "    .dataframe thead th {\n",
       "        text-align: right;\n",
       "    }\n",
       "</style>\n",
       "<table border=\"1\" class=\"dataframe\">\n",
       "  <thead>\n",
       "    <tr style=\"text-align: right;\">\n",
       "      <th></th>\n",
       "      <th>y</th>\n",
       "      <th>ds</th>\n",
       "      <th>Country</th>\n",
       "    </tr>\n",
       "  </thead>\n",
       "  <tbody>\n",
       "    <tr>\n",
       "      <th>0</th>\n",
       "      <td>885290</td>\n",
       "      <td>2008-01-01</td>\n",
       "      <td>Singapore</td>\n",
       "    </tr>\n",
       "    <tr>\n",
       "      <th>1</th>\n",
       "      <td>813028</td>\n",
       "      <td>2008-02-01</td>\n",
       "      <td>Singapore</td>\n",
       "    </tr>\n",
       "    <tr>\n",
       "      <th>2</th>\n",
       "      <td>910635</td>\n",
       "      <td>2008-03-01</td>\n",
       "      <td>Singapore</td>\n",
       "    </tr>\n",
       "    <tr>\n",
       "      <th>3</th>\n",
       "      <td>829438</td>\n",
       "      <td>2008-04-01</td>\n",
       "      <td>Singapore</td>\n",
       "    </tr>\n",
       "    <tr>\n",
       "      <th>4</th>\n",
       "      <td>833604</td>\n",
       "      <td>2008-05-01</td>\n",
       "      <td>Singapore</td>\n",
       "    </tr>\n",
       "  </tbody>\n",
       "</table>\n",
       "</div>"
      ],
      "text/plain": [
       "        y         ds    Country\n",
       "0  885290 2008-01-01  Singapore\n",
       "1  813028 2008-02-01  Singapore\n",
       "2  910635 2008-03-01  Singapore\n",
       "3  829438 2008-04-01  Singapore\n",
       "4  833604 2008-05-01  Singapore"
      ]
     },
     "execution_count": 19,
     "metadata": {},
     "output_type": "execute_result"
    }
   ],
   "source": [
    "singapore_df['Country'] = 'Singapore'\n",
    "singapore_df.head()"
   ]
  },
  {
   "cell_type": "markdown",
   "id": "6c686ca1-9ae5-4f6c-b8c3-0cbf3fcc9191",
   "metadata": {
    "jp-MarkdownHeadingCollapsed": true,
    "tags": []
   },
   "source": [
    "## UK Data"
   ]
  },
  {
   "cell_type": "markdown",
   "id": "ba08307f-f385-4289-a6d3-36d9d5348b16",
   "metadata": {},
   "source": [
    "DataSource:"
   ]
  },
  {
   "cell_type": "code",
   "execution_count": 20,
   "id": "7efde0a4-d0c7-4052-b9a7-52f2bdad5e03",
   "metadata": {},
   "outputs": [
    {
     "data": {
      "text/html": [
       "<div>\n",
       "<style scoped>\n",
       "    .dataframe tbody tr th:only-of-type {\n",
       "        vertical-align: middle;\n",
       "    }\n",
       "\n",
       "    .dataframe tbody tr th {\n",
       "        vertical-align: top;\n",
       "    }\n",
       "\n",
       "    .dataframe thead th {\n",
       "        text-align: right;\n",
       "    }\n",
       "</style>\n",
       "<table border=\"1\" class=\"dataframe\">\n",
       "  <thead>\n",
       "    <tr style=\"text-align: right;\">\n",
       "      <th></th>\n",
       "      <th>Unnamed: 0</th>\n",
       "      <th>Unnamed: 1</th>\n",
       "      <th>NSA</th>\n",
       "      <th>Unnamed: 3</th>\n",
       "    </tr>\n",
       "  </thead>\n",
       "  <tbody>\n",
       "    <tr>\n",
       "      <th>0</th>\n",
       "      <td>2012.0</td>\n",
       "      <td>Jan</td>\n",
       "      <td>2,246</td>\n",
       "      <td>NaN</td>\n",
       "    </tr>\n",
       "    <tr>\n",
       "      <th>1</th>\n",
       "      <td>NaN</td>\n",
       "      <td>Feb</td>\n",
       "      <td>1,736</td>\n",
       "      <td>NaN</td>\n",
       "    </tr>\n",
       "    <tr>\n",
       "      <th>2</th>\n",
       "      <td>NaN</td>\n",
       "      <td>Mar</td>\n",
       "      <td>2,267</td>\n",
       "      <td>NaN</td>\n",
       "    </tr>\n",
       "    <tr>\n",
       "      <th>3</th>\n",
       "      <td>NaN</td>\n",
       "      <td>Apr</td>\n",
       "      <td>2,917</td>\n",
       "      <td>NaN</td>\n",
       "    </tr>\n",
       "    <tr>\n",
       "      <th>4</th>\n",
       "      <td>NaN</td>\n",
       "      <td>May</td>\n",
       "      <td>2,970</td>\n",
       "      <td>NaN</td>\n",
       "    </tr>\n",
       "    <tr>\n",
       "      <th>5</th>\n",
       "      <td>NaN</td>\n",
       "      <td>Jun</td>\n",
       "      <td>2,570</td>\n",
       "      <td>NaN</td>\n",
       "    </tr>\n",
       "    <tr>\n",
       "      <th>6</th>\n",
       "      <td>NaN</td>\n",
       "      <td>Jul</td>\n",
       "      <td>3,158</td>\n",
       "      <td>NaN</td>\n",
       "    </tr>\n",
       "    <tr>\n",
       "      <th>7</th>\n",
       "      <td>NaN</td>\n",
       "      <td>Aug</td>\n",
       "      <td>3,016</td>\n",
       "      <td>NaN</td>\n",
       "    </tr>\n",
       "    <tr>\n",
       "      <th>8</th>\n",
       "      <td>NaN</td>\n",
       "      <td>Sep</td>\n",
       "      <td>2,612</td>\n",
       "      <td>NaN</td>\n",
       "    </tr>\n",
       "    <tr>\n",
       "      <th>9</th>\n",
       "      <td>NaN</td>\n",
       "      <td>Oct</td>\n",
       "      <td>2,690</td>\n",
       "      <td>NaN</td>\n",
       "    </tr>\n",
       "    <tr>\n",
       "      <th>10</th>\n",
       "      <td>NaN</td>\n",
       "      <td>Nov</td>\n",
       "      <td>2,476</td>\n",
       "      <td>NaN</td>\n",
       "    </tr>\n",
       "    <tr>\n",
       "      <th>11</th>\n",
       "      <td>NaN</td>\n",
       "      <td>Dec</td>\n",
       "      <td>2,427</td>\n",
       "      <td>NaN</td>\n",
       "    </tr>\n",
       "    <tr>\n",
       "      <th>12</th>\n",
       "      <td>2013.0</td>\n",
       "      <td>Jan</td>\n",
       "      <td>2,200</td>\n",
       "      <td>NaN</td>\n",
       "    </tr>\n",
       "    <tr>\n",
       "      <th>13</th>\n",
       "      <td>NaN</td>\n",
       "      <td>Feb</td>\n",
       "      <td>1,951</td>\n",
       "      <td>NaN</td>\n",
       "    </tr>\n",
       "    <tr>\n",
       "      <th>14</th>\n",
       "      <td>NaN</td>\n",
       "      <td>Mar</td>\n",
       "      <td>2,181</td>\n",
       "      <td>NaN</td>\n",
       "    </tr>\n",
       "    <tr>\n",
       "      <th>15</th>\n",
       "      <td>NaN</td>\n",
       "      <td>Apr</td>\n",
       "      <td>2,888</td>\n",
       "      <td>NaN</td>\n",
       "    </tr>\n",
       "    <tr>\n",
       "      <th>16</th>\n",
       "      <td>NaN</td>\n",
       "      <td>May</td>\n",
       "      <td>3,084</td>\n",
       "      <td>NaN</td>\n",
       "    </tr>\n",
       "    <tr>\n",
       "      <th>17</th>\n",
       "      <td>NaN</td>\n",
       "      <td>June</td>\n",
       "      <td>2,897</td>\n",
       "      <td>NaN</td>\n",
       "    </tr>\n",
       "    <tr>\n",
       "      <th>18</th>\n",
       "      <td>NaN</td>\n",
       "      <td>July</td>\n",
       "      <td>3,304</td>\n",
       "      <td>NaN</td>\n",
       "    </tr>\n",
       "    <tr>\n",
       "      <th>19</th>\n",
       "      <td>NaN</td>\n",
       "      <td>Aug</td>\n",
       "      <td>3,535</td>\n",
       "      <td>NaN</td>\n",
       "    </tr>\n",
       "    <tr>\n",
       "      <th>20</th>\n",
       "      <td>NaN</td>\n",
       "      <td>Sep</td>\n",
       "      <td>2,806</td>\n",
       "      <td>NaN</td>\n",
       "    </tr>\n",
       "    <tr>\n",
       "      <th>21</th>\n",
       "      <td>NaN</td>\n",
       "      <td>Oct</td>\n",
       "      <td>2,980</td>\n",
       "      <td>NaN</td>\n",
       "    </tr>\n",
       "    <tr>\n",
       "      <th>22</th>\n",
       "      <td>NaN</td>\n",
       "      <td>Nov</td>\n",
       "      <td>2,443</td>\n",
       "      <td>NaN</td>\n",
       "    </tr>\n",
       "    <tr>\n",
       "      <th>23</th>\n",
       "      <td>NaN</td>\n",
       "      <td>Dec</td>\n",
       "      <td>2,420</td>\n",
       "      <td>NaN</td>\n",
       "    </tr>\n",
       "    <tr>\n",
       "      <th>24</th>\n",
       "      <td>2014.0</td>\n",
       "      <td>Jan</td>\n",
       "      <td>2,359</td>\n",
       "      <td>NaN</td>\n",
       "    </tr>\n",
       "  </tbody>\n",
       "</table>\n",
       "</div>"
      ],
      "text/plain": [
       "    Unnamed: 0 Unnamed: 1      NSA  Unnamed: 3\n",
       "0       2012.0        Jan   2,246          NaN\n",
       "1          NaN        Feb   1,736          NaN\n",
       "2          NaN        Mar   2,267          NaN\n",
       "3          NaN        Apr   2,917          NaN\n",
       "4          NaN        May   2,970          NaN\n",
       "5          NaN        Jun   2,570          NaN\n",
       "6          NaN        Jul   3,158          NaN\n",
       "7          NaN        Aug   3,016          NaN\n",
       "8          NaN        Sep   2,612          NaN\n",
       "9          NaN        Oct   2,690          NaN\n",
       "10         NaN        Nov   2,476          NaN\n",
       "11         NaN        Dec   2,427          NaN\n",
       "12      2013.0        Jan   2,200          NaN\n",
       "13         NaN        Feb   1,951          NaN\n",
       "14         NaN        Mar   2,181          NaN\n",
       "15         NaN        Apr   2,888          NaN\n",
       "16         NaN        May   3,084          NaN\n",
       "17         NaN       June   2,897          NaN\n",
       "18         NaN       July   3,304          NaN\n",
       "19         NaN        Aug   3,535          NaN\n",
       "20         NaN        Sep   2,806          NaN\n",
       "21         NaN        Oct   2,980          NaN\n",
       "22         NaN        Nov   2,443          NaN\n",
       "23         NaN        Dec   2,420          NaN\n",
       "24      2014.0        Jan   2,359          NaN"
      ]
     },
     "execution_count": 20,
     "metadata": {},
     "output_type": "execute_result"
    }
   ],
   "source": [
    "uk_df = pd.read_csv(Path('Data/UK data.csv'))\n",
    "uk_df.head(25)"
   ]
  },
  {
   "cell_type": "code",
   "execution_count": 21,
   "id": "010e24c3-a4bc-411b-9cf7-5d322cf61784",
   "metadata": {},
   "outputs": [
    {
     "data": {
      "text/plain": [
       "Index(['Unnamed: 0', 'Unnamed: 1', 'NSA', 'Unnamed: 3'], dtype='object')"
      ]
     },
     "execution_count": 21,
     "metadata": {},
     "output_type": "execute_result"
    }
   ],
   "source": [
    "uk_df.columns"
   ]
  },
  {
   "cell_type": "code",
   "execution_count": 22,
   "id": "e3bb71b0-fa85-443c-b56a-b666eff82892",
   "metadata": {},
   "outputs": [
    {
     "name": "stderr",
     "output_type": "stream",
     "text": [
      "C:\\Users\\tiago\\anaconda3\\envs\\FinTech\\lib\\site-packages\\ipykernel_launcher.py:4: SettingWithCopyWarning: \n",
      "A value is trying to be set on a copy of a slice from a DataFrame.\n",
      "Try using .loc[row_indexer,col_indexer] = value instead\n",
      "\n",
      "See the caveats in the documentation: https://pandas.pydata.org/pandas-docs/stable/user_guide/indexing.html#returning-a-view-versus-a-copy\n",
      "  after removing the cwd from sys.path.\n"
     ]
    },
    {
     "data": {
      "text/html": [
       "<div>\n",
       "<style scoped>\n",
       "    .dataframe tbody tr th:only-of-type {\n",
       "        vertical-align: middle;\n",
       "    }\n",
       "\n",
       "    .dataframe tbody tr th {\n",
       "        vertical-align: top;\n",
       "    }\n",
       "\n",
       "    .dataframe thead th {\n",
       "        text-align: right;\n",
       "    }\n",
       "</style>\n",
       "<table border=\"1\" class=\"dataframe\">\n",
       "  <thead>\n",
       "    <tr style=\"text-align: right;\">\n",
       "      <th></th>\n",
       "      <th>year</th>\n",
       "      <th>month</th>\n",
       "      <th>NSA</th>\n",
       "      <th>Unnamed: 3</th>\n",
       "    </tr>\n",
       "  </thead>\n",
       "  <tbody>\n",
       "    <tr>\n",
       "      <th>0</th>\n",
       "      <td>2012.0</td>\n",
       "      <td>Jan</td>\n",
       "      <td>2,246</td>\n",
       "      <td>NaN</td>\n",
       "    </tr>\n",
       "    <tr>\n",
       "      <th>1</th>\n",
       "      <td>NaN</td>\n",
       "      <td>Feb</td>\n",
       "      <td>1,736</td>\n",
       "      <td>NaN</td>\n",
       "    </tr>\n",
       "    <tr>\n",
       "      <th>2</th>\n",
       "      <td>NaN</td>\n",
       "      <td>Mar</td>\n",
       "      <td>2,267</td>\n",
       "      <td>NaN</td>\n",
       "    </tr>\n",
       "    <tr>\n",
       "      <th>3</th>\n",
       "      <td>NaN</td>\n",
       "      <td>Apr</td>\n",
       "      <td>2,917</td>\n",
       "      <td>NaN</td>\n",
       "    </tr>\n",
       "    <tr>\n",
       "      <th>4</th>\n",
       "      <td>NaN</td>\n",
       "      <td>May</td>\n",
       "      <td>2,970</td>\n",
       "      <td>NaN</td>\n",
       "    </tr>\n",
       "  </tbody>\n",
       "</table>\n",
       "</div>"
      ],
      "text/plain": [
       "     year month      NSA  Unnamed: 3\n",
       "0  2012.0   Jan   2,246          NaN\n",
       "1     NaN   Feb   1,736          NaN\n",
       "2     NaN   Mar   2,267          NaN\n",
       "3     NaN   Apr   2,917          NaN\n",
       "4     NaN   May   2,970          NaN"
      ]
     },
     "execution_count": 22,
     "metadata": {},
     "output_type": "execute_result"
    }
   ],
   "source": [
    "uk_df = uk_df.rename(columns = {'Unnamed: 0':'year',\n",
    "                       'Unnamed: 1':'month'})\n",
    "\n",
    "uk_df[uk_df['year'].isna()]['year'] = None\n",
    "uk_df.head()"
   ]
  },
  {
   "cell_type": "code",
   "execution_count": 23,
   "id": "37f6390b-b22f-4441-9cb0-b29bcbb3997d",
   "metadata": {},
   "outputs": [
    {
     "data": {
      "text/html": [
       "<div>\n",
       "<style scoped>\n",
       "    .dataframe tbody tr th:only-of-type {\n",
       "        vertical-align: middle;\n",
       "    }\n",
       "\n",
       "    .dataframe tbody tr th {\n",
       "        vertical-align: top;\n",
       "    }\n",
       "\n",
       "    .dataframe thead th {\n",
       "        text-align: right;\n",
       "    }\n",
       "</style>\n",
       "<table border=\"1\" class=\"dataframe\">\n",
       "  <thead>\n",
       "    <tr style=\"text-align: right;\">\n",
       "      <th></th>\n",
       "      <th>year</th>\n",
       "      <th>month</th>\n",
       "      <th>NSA</th>\n",
       "      <th>Unnamed: 3</th>\n",
       "    </tr>\n",
       "  </thead>\n",
       "  <tbody>\n",
       "    <tr>\n",
       "      <th>0</th>\n",
       "      <td>2012.0</td>\n",
       "      <td>Jan</td>\n",
       "      <td>2,246</td>\n",
       "      <td>NaN</td>\n",
       "    </tr>\n",
       "    <tr>\n",
       "      <th>1</th>\n",
       "      <td>2012.0</td>\n",
       "      <td>Feb</td>\n",
       "      <td>1,736</td>\n",
       "      <td>NaN</td>\n",
       "    </tr>\n",
       "    <tr>\n",
       "      <th>2</th>\n",
       "      <td>2012.0</td>\n",
       "      <td>Mar</td>\n",
       "      <td>2,267</td>\n",
       "      <td>NaN</td>\n",
       "    </tr>\n",
       "    <tr>\n",
       "      <th>3</th>\n",
       "      <td>2012.0</td>\n",
       "      <td>Apr</td>\n",
       "      <td>2,917</td>\n",
       "      <td>NaN</td>\n",
       "    </tr>\n",
       "    <tr>\n",
       "      <th>4</th>\n",
       "      <td>2012.0</td>\n",
       "      <td>May</td>\n",
       "      <td>2,970</td>\n",
       "      <td>NaN</td>\n",
       "    </tr>\n",
       "    <tr>\n",
       "      <th>5</th>\n",
       "      <td>2012.0</td>\n",
       "      <td>Jun</td>\n",
       "      <td>2,570</td>\n",
       "      <td>NaN</td>\n",
       "    </tr>\n",
       "    <tr>\n",
       "      <th>6</th>\n",
       "      <td>2012.0</td>\n",
       "      <td>Jul</td>\n",
       "      <td>3,158</td>\n",
       "      <td>NaN</td>\n",
       "    </tr>\n",
       "    <tr>\n",
       "      <th>7</th>\n",
       "      <td>2012.0</td>\n",
       "      <td>Aug</td>\n",
       "      <td>3,016</td>\n",
       "      <td>NaN</td>\n",
       "    </tr>\n",
       "    <tr>\n",
       "      <th>8</th>\n",
       "      <td>2012.0</td>\n",
       "      <td>Sep</td>\n",
       "      <td>2,612</td>\n",
       "      <td>NaN</td>\n",
       "    </tr>\n",
       "    <tr>\n",
       "      <th>9</th>\n",
       "      <td>2012.0</td>\n",
       "      <td>Oct</td>\n",
       "      <td>2,690</td>\n",
       "      <td>NaN</td>\n",
       "    </tr>\n",
       "    <tr>\n",
       "      <th>10</th>\n",
       "      <td>2012.0</td>\n",
       "      <td>Nov</td>\n",
       "      <td>2,476</td>\n",
       "      <td>NaN</td>\n",
       "    </tr>\n",
       "    <tr>\n",
       "      <th>11</th>\n",
       "      <td>2012.0</td>\n",
       "      <td>Dec</td>\n",
       "      <td>2,427</td>\n",
       "      <td>NaN</td>\n",
       "    </tr>\n",
       "    <tr>\n",
       "      <th>12</th>\n",
       "      <td>2013.0</td>\n",
       "      <td>Jan</td>\n",
       "      <td>2,200</td>\n",
       "      <td>NaN</td>\n",
       "    </tr>\n",
       "    <tr>\n",
       "      <th>13</th>\n",
       "      <td>2013.0</td>\n",
       "      <td>Feb</td>\n",
       "      <td>1,951</td>\n",
       "      <td>NaN</td>\n",
       "    </tr>\n",
       "    <tr>\n",
       "      <th>14</th>\n",
       "      <td>2013.0</td>\n",
       "      <td>Mar</td>\n",
       "      <td>2,181</td>\n",
       "      <td>NaN</td>\n",
       "    </tr>\n",
       "    <tr>\n",
       "      <th>15</th>\n",
       "      <td>2013.0</td>\n",
       "      <td>Apr</td>\n",
       "      <td>2,888</td>\n",
       "      <td>NaN</td>\n",
       "    </tr>\n",
       "    <tr>\n",
       "      <th>16</th>\n",
       "      <td>2013.0</td>\n",
       "      <td>May</td>\n",
       "      <td>3,084</td>\n",
       "      <td>NaN</td>\n",
       "    </tr>\n",
       "    <tr>\n",
       "      <th>17</th>\n",
       "      <td>2013.0</td>\n",
       "      <td>June</td>\n",
       "      <td>2,897</td>\n",
       "      <td>NaN</td>\n",
       "    </tr>\n",
       "    <tr>\n",
       "      <th>18</th>\n",
       "      <td>2013.0</td>\n",
       "      <td>July</td>\n",
       "      <td>3,304</td>\n",
       "      <td>NaN</td>\n",
       "    </tr>\n",
       "    <tr>\n",
       "      <th>19</th>\n",
       "      <td>2013.0</td>\n",
       "      <td>Aug</td>\n",
       "      <td>3,535</td>\n",
       "      <td>NaN</td>\n",
       "    </tr>\n",
       "  </tbody>\n",
       "</table>\n",
       "</div>"
      ],
      "text/plain": [
       "      year month      NSA  Unnamed: 3\n",
       "0   2012.0   Jan   2,246          NaN\n",
       "1   2012.0   Feb   1,736          NaN\n",
       "2   2012.0   Mar   2,267          NaN\n",
       "3   2012.0   Apr   2,917          NaN\n",
       "4   2012.0   May   2,970          NaN\n",
       "5   2012.0   Jun   2,570          NaN\n",
       "6   2012.0   Jul   3,158          NaN\n",
       "7   2012.0   Aug   3,016          NaN\n",
       "8   2012.0   Sep   2,612          NaN\n",
       "9   2012.0   Oct   2,690          NaN\n",
       "10  2012.0   Nov   2,476          NaN\n",
       "11  2012.0   Dec   2,427          NaN\n",
       "12  2013.0   Jan   2,200          NaN\n",
       "13  2013.0   Feb   1,951          NaN\n",
       "14  2013.0   Mar   2,181          NaN\n",
       "15  2013.0   Apr   2,888          NaN\n",
       "16  2013.0   May   3,084          NaN\n",
       "17  2013.0  June   2,897          NaN\n",
       "18  2013.0  July   3,304          NaN\n",
       "19  2013.0   Aug   3,535          NaN"
      ]
     },
     "execution_count": 23,
     "metadata": {},
     "output_type": "execute_result"
    }
   ],
   "source": [
    "uk_df = uk_df.fillna(method = 'ffill')\n",
    "uk_df.head(20)"
   ]
  },
  {
   "cell_type": "code",
   "execution_count": 24,
   "id": "8b8d57fa-785d-4498-89a2-d648fc90a02c",
   "metadata": {},
   "outputs": [],
   "source": [
    "uk_df = uk_df.drop(['Unnamed: 3'],axis = 1)"
   ]
  },
  {
   "cell_type": "code",
   "execution_count": 25,
   "id": "2679fbd3-0a4a-4afe-b960-b2189e84c579",
   "metadata": {},
   "outputs": [],
   "source": [
    "uk_df['day']= 1\n",
    "uk_df['year']=uk_df['year'].astype(int)"
   ]
  },
  {
   "cell_type": "code",
   "execution_count": 26,
   "id": "fe95d58d-9ae2-47d1-972c-529a9921af76",
   "metadata": {},
   "outputs": [
    {
     "data": {
      "text/plain": [
       "array(['Jan', 'Feb', 'Mar', 'Apr', 'May', 'Jun', 'Jul', 'Aug', 'Sep',\n",
       "       'Oct', 'Nov', 'Dec', 'June', 'July', 'Sept'], dtype=object)"
      ]
     },
     "execution_count": 26,
     "metadata": {},
     "output_type": "execute_result"
    }
   ],
   "source": [
    "uk_df.month.unique()"
   ]
  },
  {
   "cell_type": "code",
   "execution_count": 27,
   "id": "acc1d043-50c5-4181-81dc-8438ceafcd2f",
   "metadata": {},
   "outputs": [],
   "source": [
    "labels_month = {'Jan':1,\n",
    "               'Feb':2,\n",
    "               'Mar':3,\n",
    "               'Apr':4,\n",
    "               'May':5,\n",
    "                'Jun':6,\n",
    "               'June':6,\n",
    "               'Jul':7,\n",
    "                'July':7,\n",
    "               'Aug':8,\n",
    "               'Sep':9,\n",
    "                'Sept':9,\n",
    "               'Oct':10,\n",
    "               'Nov':11,\n",
    "               'Dec':12}"
   ]
  },
  {
   "cell_type": "code",
   "execution_count": 28,
   "id": "6f2ed604-b7cd-4f2f-a0ff-b60f108ea265",
   "metadata": {},
   "outputs": [],
   "source": [
    "uk_df['month_num'] = uk_df['month'].apply(lambda x: labels_month[x])"
   ]
  },
  {
   "cell_type": "code",
   "execution_count": 29,
   "id": "4ed2237c-8012-4702-8a94-bf38a8c25ea1",
   "metadata": {},
   "outputs": [],
   "source": [
    "cols = ['year','month_num','day']"
   ]
  },
  {
   "cell_type": "code",
   "execution_count": 30,
   "id": "b353fabc-fc14-4111-87ea-8189fd4696ba",
   "metadata": {},
   "outputs": [],
   "source": [
    "uk_df['ds'] = uk_df[cols].apply(lambda x: '-'.join(x.values.astype(str)),axis = 'columns')\n",
    "uk_df['ds'] = pd.to_datetime(uk_df['ds'])"
   ]
  },
  {
   "cell_type": "code",
   "execution_count": 31,
   "id": "7e14cfca-867f-4a92-b8ef-9a63fc628703",
   "metadata": {},
   "outputs": [],
   "source": [
    "uk_df['y'] = uk_df['NSA'].str.replace(',','').astype(int)*1000\n",
    "uk_df = uk_df[['ds','y']]"
   ]
  },
  {
   "cell_type": "code",
   "execution_count": 32,
   "id": "22fc244e-ce37-44c8-b1a2-12fa710d48b4",
   "metadata": {},
   "outputs": [
    {
     "data": {
      "text/html": [
       "<div>\n",
       "<style scoped>\n",
       "    .dataframe tbody tr th:only-of-type {\n",
       "        vertical-align: middle;\n",
       "    }\n",
       "\n",
       "    .dataframe tbody tr th {\n",
       "        vertical-align: top;\n",
       "    }\n",
       "\n",
       "    .dataframe thead th {\n",
       "        text-align: right;\n",
       "    }\n",
       "</style>\n",
       "<table border=\"1\" class=\"dataframe\">\n",
       "  <thead>\n",
       "    <tr style=\"text-align: right;\">\n",
       "      <th></th>\n",
       "      <th>ds</th>\n",
       "      <th>y</th>\n",
       "      <th>Country</th>\n",
       "    </tr>\n",
       "  </thead>\n",
       "  <tbody>\n",
       "    <tr>\n",
       "      <th>0</th>\n",
       "      <td>2012-01-01</td>\n",
       "      <td>2246000</td>\n",
       "      <td>UK</td>\n",
       "    </tr>\n",
       "    <tr>\n",
       "      <th>1</th>\n",
       "      <td>2012-02-01</td>\n",
       "      <td>1736000</td>\n",
       "      <td>UK</td>\n",
       "    </tr>\n",
       "    <tr>\n",
       "      <th>2</th>\n",
       "      <td>2012-03-01</td>\n",
       "      <td>2267000</td>\n",
       "      <td>UK</td>\n",
       "    </tr>\n",
       "    <tr>\n",
       "      <th>3</th>\n",
       "      <td>2012-04-01</td>\n",
       "      <td>2917000</td>\n",
       "      <td>UK</td>\n",
       "    </tr>\n",
       "    <tr>\n",
       "      <th>4</th>\n",
       "      <td>2012-05-01</td>\n",
       "      <td>2970000</td>\n",
       "      <td>UK</td>\n",
       "    </tr>\n",
       "  </tbody>\n",
       "</table>\n",
       "</div>"
      ],
      "text/plain": [
       "          ds        y Country\n",
       "0 2012-01-01  2246000      UK\n",
       "1 2012-02-01  1736000      UK\n",
       "2 2012-03-01  2267000      UK\n",
       "3 2012-04-01  2917000      UK\n",
       "4 2012-05-01  2970000      UK"
      ]
     },
     "execution_count": 32,
     "metadata": {},
     "output_type": "execute_result"
    }
   ],
   "source": [
    "uk_df['Country'] = 'UK'\n",
    "uk_df.head()"
   ]
  },
  {
   "cell_type": "markdown",
   "id": "c95b6c50-6080-4dc6-be1d-69107f80c0c2",
   "metadata": {
    "jp-MarkdownHeadingCollapsed": true,
    "tags": []
   },
   "source": [
    "## Jamaica Data"
   ]
  },
  {
   "cell_type": "markdown",
   "id": "71d22f44-9791-44be-9b89-07b894a41688",
   "metadata": {},
   "source": [
    "DataSource:"
   ]
  },
  {
   "cell_type": "code",
   "execution_count": 33,
   "id": "d2dc072e-02da-48aa-bb75-7f2621a0daba",
   "metadata": {},
   "outputs": [
    {
     "data": {
      "text/html": [
       "<div>\n",
       "<style scoped>\n",
       "    .dataframe tbody tr th:only-of-type {\n",
       "        vertical-align: middle;\n",
       "    }\n",
       "\n",
       "    .dataframe tbody tr th {\n",
       "        vertical-align: top;\n",
       "    }\n",
       "\n",
       "    .dataframe thead th {\n",
       "        text-align: right;\n",
       "    }\n",
       "</style>\n",
       "<table border=\"1\" class=\"dataframe\">\n",
       "  <thead>\n",
       "    <tr style=\"text-align: right;\">\n",
       "      <th></th>\n",
       "      <th>ds</th>\n",
       "      <th>y</th>\n",
       "    </tr>\n",
       "  </thead>\n",
       "  <tbody>\n",
       "    <tr>\n",
       "      <th>0</th>\n",
       "      <td>1/1/2006</td>\n",
       "      <td>130,695</td>\n",
       "    </tr>\n",
       "    <tr>\n",
       "      <th>1</th>\n",
       "      <td>2/1/2006</td>\n",
       "      <td>138,428</td>\n",
       "    </tr>\n",
       "    <tr>\n",
       "      <th>2</th>\n",
       "      <td>3/1/2006</td>\n",
       "      <td>167,439</td>\n",
       "    </tr>\n",
       "    <tr>\n",
       "      <th>3</th>\n",
       "      <td>4/1/2006</td>\n",
       "      <td>163,272</td>\n",
       "    </tr>\n",
       "    <tr>\n",
       "      <th>4</th>\n",
       "      <td>5/1/2006</td>\n",
       "      <td>133,902</td>\n",
       "    </tr>\n",
       "  </tbody>\n",
       "</table>\n",
       "</div>"
      ],
      "text/plain": [
       "         ds        y\n",
       "0  1/1/2006  130,695\n",
       "1  2/1/2006  138,428\n",
       "2  3/1/2006  167,439\n",
       "3  4/1/2006  163,272\n",
       "4  5/1/2006  133,902"
      ]
     },
     "execution_count": 33,
     "metadata": {},
     "output_type": "execute_result"
    }
   ],
   "source": [
    "jamaica_df = pd.read_csv(Path('Data/Jamaica Monthly Tourist Visitors v2.csv'))\n",
    "jamaica_df.head()"
   ]
  },
  {
   "cell_type": "code",
   "execution_count": 34,
   "id": "876c34fe-6ce9-4a16-8c8a-7fa614a4f782",
   "metadata": {},
   "outputs": [],
   "source": [
    "jamaica_df['y']=jamaica_df['y'].str.replace(',','')\n",
    "jamaica_df['y']=jamaica_df['y'].str.replace('-','0')\n",
    "jamaica_df['y']=jamaica_df['y'].astype(int)\n",
    "jamaica_df['ds'] = pd.to_datetime(jamaica_df['ds'])"
   ]
  },
  {
   "cell_type": "code",
   "execution_count": 35,
   "id": "117ea022-bc01-4fd6-ace8-d9717bf601fe",
   "metadata": {},
   "outputs": [
    {
     "name": "stdout",
     "output_type": "stream",
     "text": [
      "<class 'pandas.core.frame.DataFrame'>\n",
      "RangeIndex: 195 entries, 0 to 194\n",
      "Data columns (total 2 columns):\n",
      " #   Column  Non-Null Count  Dtype         \n",
      "---  ------  --------------  -----         \n",
      " 0   ds      195 non-null    datetime64[ns]\n",
      " 1   y       195 non-null    int32         \n",
      "dtypes: datetime64[ns](1), int32(1)\n",
      "memory usage: 2.4 KB\n"
     ]
    }
   ],
   "source": [
    "jamaica_df.info()"
   ]
  },
  {
   "cell_type": "code",
   "execution_count": 36,
   "id": "a2cfa759-a0a1-4f9b-94f0-d91224896863",
   "metadata": {},
   "outputs": [
    {
     "data": {
      "text/html": [
       "<div>\n",
       "<style scoped>\n",
       "    .dataframe tbody tr th:only-of-type {\n",
       "        vertical-align: middle;\n",
       "    }\n",
       "\n",
       "    .dataframe tbody tr th {\n",
       "        vertical-align: top;\n",
       "    }\n",
       "\n",
       "    .dataframe thead th {\n",
       "        text-align: right;\n",
       "    }\n",
       "</style>\n",
       "<table border=\"1\" class=\"dataframe\">\n",
       "  <thead>\n",
       "    <tr style=\"text-align: right;\">\n",
       "      <th></th>\n",
       "      <th>ds</th>\n",
       "      <th>y</th>\n",
       "      <th>Country</th>\n",
       "    </tr>\n",
       "  </thead>\n",
       "  <tbody>\n",
       "    <tr>\n",
       "      <th>0</th>\n",
       "      <td>2006-01-01</td>\n",
       "      <td>130695</td>\n",
       "      <td>Jamaica</td>\n",
       "    </tr>\n",
       "    <tr>\n",
       "      <th>1</th>\n",
       "      <td>2006-02-01</td>\n",
       "      <td>138428</td>\n",
       "      <td>Jamaica</td>\n",
       "    </tr>\n",
       "    <tr>\n",
       "      <th>2</th>\n",
       "      <td>2006-03-01</td>\n",
       "      <td>167439</td>\n",
       "      <td>Jamaica</td>\n",
       "    </tr>\n",
       "    <tr>\n",
       "      <th>3</th>\n",
       "      <td>2006-04-01</td>\n",
       "      <td>163272</td>\n",
       "      <td>Jamaica</td>\n",
       "    </tr>\n",
       "    <tr>\n",
       "      <th>4</th>\n",
       "      <td>2006-05-01</td>\n",
       "      <td>133902</td>\n",
       "      <td>Jamaica</td>\n",
       "    </tr>\n",
       "  </tbody>\n",
       "</table>\n",
       "</div>"
      ],
      "text/plain": [
       "          ds       y  Country\n",
       "0 2006-01-01  130695  Jamaica\n",
       "1 2006-02-01  138428  Jamaica\n",
       "2 2006-03-01  167439  Jamaica\n",
       "3 2006-04-01  163272  Jamaica\n",
       "4 2006-05-01  133902  Jamaica"
      ]
     },
     "execution_count": 36,
     "metadata": {},
     "output_type": "execute_result"
    }
   ],
   "source": [
    "jamaica_df['Country'] = 'Jamaica'\n",
    "jamaica_df.head()"
   ]
  },
  {
   "cell_type": "markdown",
   "id": "54025e0d-36d9-4dba-82fb-7ecfeb8f52a3",
   "metadata": {
    "tags": []
   },
   "source": [
    "## Iceland"
   ]
  },
  {
   "cell_type": "markdown",
   "id": "bb400b8a-5829-4b35-82fb-16fd4d1a12da",
   "metadata": {},
   "source": [
    "DataSource:"
   ]
  },
  {
   "cell_type": "code",
   "execution_count": 37,
   "id": "4842bb68-fb42-4b61-970e-de8753f6a29b",
   "metadata": {},
   "outputs": [
    {
     "data": {
      "text/html": [
       "<div>\n",
       "<style scoped>\n",
       "    .dataframe tbody tr th:only-of-type {\n",
       "        vertical-align: middle;\n",
       "    }\n",
       "\n",
       "    .dataframe tbody tr th {\n",
       "        vertical-align: top;\n",
       "    }\n",
       "\n",
       "    .dataframe thead th {\n",
       "        text-align: right;\n",
       "    }\n",
       "</style>\n",
       "<table border=\"1\" class=\"dataframe\">\n",
       "  <thead>\n",
       "    <tr style=\"text-align: right;\">\n",
       "      <th></th>\n",
       "      <th>ds</th>\n",
       "      <th>y</th>\n",
       "    </tr>\n",
       "  </thead>\n",
       "  <tbody>\n",
       "    <tr>\n",
       "      <th>0</th>\n",
       "      <td>2003-01-01</td>\n",
       "      <td>12697</td>\n",
       "    </tr>\n",
       "    <tr>\n",
       "      <th>1</th>\n",
       "      <td>2003-02-01</td>\n",
       "      <td>12948</td>\n",
       "    </tr>\n",
       "    <tr>\n",
       "      <th>2</th>\n",
       "      <td>2003-03-01</td>\n",
       "      <td>18537</td>\n",
       "    </tr>\n",
       "    <tr>\n",
       "      <th>3</th>\n",
       "      <td>2003-04-01</td>\n",
       "      <td>20465</td>\n",
       "    </tr>\n",
       "    <tr>\n",
       "      <th>4</th>\n",
       "      <td>2003-05-01</td>\n",
       "      <td>20373</td>\n",
       "    </tr>\n",
       "  </tbody>\n",
       "</table>\n",
       "</div>"
      ],
      "text/plain": [
       "          ds      y\n",
       "0 2003-01-01  12697\n",
       "1 2003-02-01  12948\n",
       "2 2003-03-01  18537\n",
       "3 2003-04-01  20465\n",
       "4 2003-05-01  20373"
      ]
     },
     "execution_count": 37,
     "metadata": {},
     "output_type": "execute_result"
    }
   ],
   "source": [
    "iceland_df = pd.read_excel(Path('Data/Iceland_Tourist_Data.xlsx'))\n",
    "iceland_df.head()"
   ]
  },
  {
   "cell_type": "code",
   "execution_count": 38,
   "id": "85895635-2eb7-466f-baf5-b00fbbc80887",
   "metadata": {},
   "outputs": [
    {
     "name": "stdout",
     "output_type": "stream",
     "text": [
      "<class 'pandas.core.frame.DataFrame'>\n",
      "RangeIndex: 228 entries, 0 to 227\n",
      "Data columns (total 2 columns):\n",
      " #   Column  Non-Null Count  Dtype         \n",
      "---  ------  --------------  -----         \n",
      " 0   ds      228 non-null    datetime64[ns]\n",
      " 1   y       228 non-null    int64         \n",
      "dtypes: datetime64[ns](1), int64(1)\n",
      "memory usage: 3.7 KB\n"
     ]
    }
   ],
   "source": [
    "iceland_df.info()"
   ]
  },
  {
   "cell_type": "code",
   "execution_count": 39,
   "id": "8f09f769-0cc1-461c-b340-44e19ec0b884",
   "metadata": {},
   "outputs": [],
   "source": [
    "iceland_df['Country'] = 'Iceland'"
   ]
  },
  {
   "cell_type": "markdown",
   "id": "bdb2432e-3079-4eeb-a56b-8d03775f0bd1",
   "metadata": {},
   "source": [
    "## Consolidate Data"
   ]
  },
  {
   "cell_type": "code",
   "execution_count": 40,
   "id": "60f2cf6e-e5c3-4f41-9801-354354f22ab7",
   "metadata": {},
   "outputs": [],
   "source": [
    "dataframes = [portugal_df,jamaica_df,iceland_df,uk_df,singapore_df]"
   ]
  },
  {
   "cell_type": "code",
   "execution_count": 41,
   "id": "33b2c63c-4352-435a-9046-dccc0c87c16d",
   "metadata": {},
   "outputs": [
    {
     "name": "stdout",
     "output_type": "stream",
     "text": [
      "2000-01-31 00:00:00\n",
      "2000-01-31 00:00:00\n",
      "2006-01-01 00:00:00\n",
      "2003-01-01 00:00:00\n",
      "2012-01-01 00:00:00\n",
      "2008-01-01 00:00:00\n",
      "2012-01-01 00:00:00\n"
     ]
    }
   ],
   "source": [
    "lower_date = portugal_df['ds'][0]\n",
    "print(lower_date)\n",
    "for i in dataframes:\n",
    "    date = i['ds'][0]\n",
    "    print(date)\n",
    "    if date > lower_date:\n",
    "        lower_date = date\n",
    "print(lower_date)"
   ]
  },
  {
   "cell_type": "code",
   "execution_count": 42,
   "id": "5b82e6c6-abf0-425d-823d-71a123164117",
   "metadata": {},
   "outputs": [],
   "source": [
    "data = pd.concat(dataframes,axis = 0, ignore_index = True)\n",
    "#data = data[data['ds']>= lower_date]"
   ]
  },
  {
   "cell_type": "markdown",
   "id": "0ccb682b-7413-44e0-9711-b82c2b97cbec",
   "metadata": {
    "tags": []
   },
   "source": [
    "## Database"
   ]
  },
  {
   "cell_type": "code",
   "execution_count": 43,
   "id": "53b11753-ec52-469a-8f40-4078d11e7a95",
   "metadata": {},
   "outputs": [],
   "source": [
    "#Database Connection String\n",
    "database_connection_string = 'sqlite:///Resources/tourism_data.db'\n",
    "#Create Engine\n",
    "engine = sql.create_engine(database_connection_string)"
   ]
  },
  {
   "cell_type": "code",
   "execution_count": 44,
   "id": "61e4082e-3a0b-4d3e-a88a-69eb0b7f3ed5",
   "metadata": {},
   "outputs": [],
   "source": [
    "data.to_sql('tourism_data',engine, index = False, if_exists='replace')"
   ]
  },
  {
   "cell_type": "code",
   "execution_count": null,
   "id": "27ad56dc-8342-4bf6-92e8-c4ed88db7980",
   "metadata": {},
   "outputs": [],
   "source": []
  }
 ],
 "metadata": {
  "kernelspec": {
   "display_name": "FinTech",
   "language": "python",
   "name": "fintech"
  },
  "language_info": {
   "codemirror_mode": {
    "name": "ipython",
    "version": 3
   },
   "file_extension": ".py",
   "mimetype": "text/x-python",
   "name": "python",
   "nbconvert_exporter": "python",
   "pygments_lexer": "ipython3",
   "version": "3.7.11"
  }
 },
 "nbformat": 4,
 "nbformat_minor": 5
}
